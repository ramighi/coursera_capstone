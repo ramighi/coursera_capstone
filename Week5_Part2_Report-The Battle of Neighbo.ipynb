{
    "cells": [
        {
            "cell_type": "markdown",
            "metadata": {
                "collapsed": true
            },
            "source": "# Identifiying the optimal warehouse location for a restaurant food & beverage supplier in North York, Toronto\n\n### Introduction/Business Problem\nFor many years, a well-established small business owner in Toronto's North York borough has been very successful in supplying kitchen equipment to many local restaurants. He now sees a new business opportunity in supplying restaurants with fresh food & beverage products. Some of the restaurants that have been long-time customers already agreed to purchase from him.\n\nThus, he is now looking for a warehouse location within North York, where he can store food & beverage products for subsequent fast delivery to restaurants. Food & beverage supplies are oftentimes requested by restaurants on-demand and are expected to be as fresh as possible for reasons of quality and hygiene. In other words, the distance (and, therefore, presumably the delivery lead time) between the warehouse and the customers should be as short as possible to secure the fastest possible delivery lead time. Moreover, the small business owner can reduce logistics costs by keeping delivery distance and lead time as short as possible. \n\nThe goal of this project is to identify the optimal neighborhood location for a warehouse within North York that is closest to the most restaurants.\n\n### Data\nTo identify the optimal location, geographical information \u2013 longitude/latitude postal codes - of Toronto and, specifically, the North York borough and its neighborhoods is required. Wikipedia readily provides a list of Toronto\u2019s boroughs and neighborhood including postcodes, which will be scraped: https://en.wikipedia.org/wiki/List_of_postal_codes_of_Canada:_M .\n\nTo complement the Wikipedia list, an IBM-provided .csv-file containing geographical information of postcodes and latitude/longitude within Toronto will be accesse: https://cocl.us/Geospatial_data\n\nFurther, geographical and categorical information about relevant venues (restaurants) in North York and its neighborhoods is required. The Foursquare API will be accessed to retrieve such information: https://developer.foursquare.com/\n\nAll of the above-mentioned data sources will be used in conjunction to identify the most optimal neighborhood location within North York for the food & beverage supply warehouse.\n\n### Methodology\nA dataframe was created the Wikipedia list of Toronto postcodes and the .cvs-file containing postcodes and longitude/latitude coordinates a dataframe was created. The dataframe was created to show a stuctured table with Toronto postcodes, boroughs, neighborhoods and latitude/longitude coordinates.\n\nGiven that the focus is on the North York borough, the dataframe was narrowed to reflect the above-mentioned information with regards to North York and its neighborhoods.\n\nGeographical and categorical information about venues in North York was then accessed using Foursquare. The top-100 venues and their categories were explored within 500 miles radius of neighborhoods and this data was then (manually) cleaned and narrowed only to include restaurant-type venues. The dataframe was then restructured and narrowed to restaurant-type venues per category for each North York neighborhood.\n\nThereafter, North York neighborhoods were organized into 5 clusters using kmeans. The center (centroid) of each cluster was identified and all clusters were then ranked based on distance to most restaurants. kmeans is a simple but effective method to identify the neighborhood location closest to most restaurants.\n\n### Results\nThe highest-ranked cluster (3rd) corresponded to the Willowdale South neighborhood. Willowdale South was identified as most optimal location. \n\nHaving said this, the second highest-ranked cluster (5th) follows very closely. It corresponds to the Fairview, Henry Farm and Oriole neighborhoods.\n\n### Discussion\nWillowdale South was identified as the most optimal neighborhood location for the food & beverage supply warehouse in terms of distance to restaurants. \n\nThe second most optimal locations by a close margin might be North York\u2019s Fairview, Henry Farm and Oriole neighborhoods. Because the highest ranked cluster corresponds to a single neighborhood (Willowdale South), it was not deemed necessary to break down the second most optimal cluster (5th) and explore each of the three individual neighborhoods as alternative locations.\n\nA further step beyond the scope of this project could be to explore these three, second highest-ranked neighborhoods as location alternatives, for example, if there are no warehouses available in Willowdale South, if the warehouse rents in Willowdale South are too high or if there is personal/subjective preference for another location. Furthermore, Toronto is a dynamic city, meaning the landscape of restaurants in the North York borough could change, which could in turn have implication on what constitutes an optimal warehouse location. Also, the urban restaurant industry in general is experiencing  disruption by online food delivery, cloud kitchens and other alternatives. Therefore, as a food & beverage supplier, it would be wise to observe city developments and industry trends and react accordingly. Finally, small businesses like the one we focused on grow beyond local geographical markets if they are successful, meaning location and warehousing needs could change with growth.\n\n### Conclusion\nUsing geographical data, access to third-party services, Python code and kmeans methods,the Willowdale South neighborhood was identified as the most otpimal location for a food & beverage product warehouse supplying restaurants in the North Yor borough. This lis where the small business owner in question should seek a warehouse in order to secure the best supply proximity to the most restaurants in North York.\n"
        },
        {
            "cell_type": "code",
            "execution_count": null,
            "metadata": {},
            "outputs": [],
            "source": ""
        }
    ],
    "metadata": {
        "kernelspec": {
            "display_name": "Python 3.6",
            "language": "python",
            "name": "python3"
        },
        "language_info": {
            "codemirror_mode": {
                "name": "ipython",
                "version": 3
            },
            "file_extension": ".py",
            "mimetype": "text/x-python",
            "name": "python",
            "nbconvert_exporter": "python",
            "pygments_lexer": "ipython3",
            "version": "3.6.8"
        }
    },
    "nbformat": 4,
    "nbformat_minor": 1
}