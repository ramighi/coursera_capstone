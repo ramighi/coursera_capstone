{
    "cells": [
        {
            "cell_type": "markdown",
            "metadata": {
                "collapsed": true
            },
            "source": "# Identifiying the optimal warehouse location for a restaurant food & beverage supplier in North York, Toronto"
        },
        {
            "cell_type": "markdown",
            "metadata": {},
            "source": "__Introduction/Business Problem__"
        },
        {
            "cell_type": "markdown",
            "metadata": {},
            "source": "For many years, a well-established small business owner in Toronto's North York borough has been very successful in supplying kitchen equipment to the majority of local restaurants. He now sees a new business opportunity in supplying restaurants with fresh food & beverage products. Some of the restaurants that have been long-time customers already agreed to purchase from him. \n\nThus, he is now looking for a warehouse location within North York, where he can store food & beverage products for fast delivery to resaurants. Food & beverage supplies are oftentimes requested by restaurants on-demand and need to be as fresh as possible due to quality and hygiene reasons. In other words, the distance between the warehouse and the customers is best kept as short as possible to secure fast delivery lead time. For that reason, he wants to identifying the optimal location for the warehouse within North York that is as closest as possible to most restaurants. \n\nThis is the goal of this project."
        },
        {
            "cell_type": "markdown",
            "metadata": {},
            "source": "__Data__"
        },
        {
            "cell_type": "markdown",
            "metadata": {},
            "source": "To identify the optimal location, geographical information - longitude and latitude, and postal codes - of the North York borough and its neighborhoods is required. \n\nWikipedia readily provides a public database with such geographical infrormation, which will be scraped: https://en.wikipedia.org/wiki/List_of_postal_codes_of_Canada:_M\n\nMoreover, similar information about rleevant veues (restaurants) in North York is required. The Foursquare API will be accessed to retrieve relevant geographical informaton about restaurants in North Yor: https://developer.foursquare.com/\n\nBoth data sources will be used in conjuction to identify th"
        }
    ],
    "metadata": {
        "kernelspec": {
            "display_name": "Python 3.6",
            "language": "python",
            "name": "python3"
        },
        "language_info": {
            "codemirror_mode": {
                "name": "ipython",
                "version": 3
            },
            "file_extension": ".py",
            "mimetype": "text/x-python",
            "name": "python",
            "nbconvert_exporter": "python",
            "pygments_lexer": "ipython3",
            "version": "3.6.8"
        }
    },
    "nbformat": 4,
    "nbformat_minor": 1
}